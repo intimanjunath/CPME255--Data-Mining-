{
  "nbformat": 4,
  "nbformat_minor": 0,
  "metadata": {
    "colab": {
      "provenance": []
    },
    "kernelspec": {
      "name": "python3",
      "display_name": "Python 3"
    },
    "language_info": {
      "name": "python"
    }
  },
  "cells": [
    {
      "cell_type": "markdown",
      "source": [
        "#Colab Introduction\n",
        "Here we are testing out how to work with colab. And how to import necessary libraries to be used in the code.\n",
        "\n",
        "1. List item1\n",
        "2. List item2\n",
        "* List item1\n",
        "* List item2"
      ],
      "metadata": {
        "id": "f73WEg-Ccb7A"
      }
    },
    {
      "cell_type": "code",
      "source": [
        "# Import libraries\n",
        "import pandas as pd\n",
        "import numpy as np\n",
        "import sklearn as svm\n",
        "import seaborn as sb\n",
        "import matplotlib as plt"
      ],
      "metadata": {
        "id": "xovK92LycjCe"
      },
      "execution_count": 1,
      "outputs": []
    },
    {
      "cell_type": "code",
      "source": [
        "#import py3dmol\n",
        "\n",
        "! pip install py3dmol"
      ],
      "metadata": {
        "colab": {
          "base_uri": "https://localhost:8080/"
        },
        "id": "LFGBgDqLcsKl",
        "outputId": "42843b71-f309-412c-af54-18aae6984812"
      },
      "execution_count": 2,
      "outputs": [
        {
          "output_type": "stream",
          "name": "stdout",
          "text": [
            "Collecting py3dmol\n",
            "  Downloading py3Dmol-2.4.0-py2.py3-none-any.whl.metadata (1.9 kB)\n",
            "Downloading py3Dmol-2.4.0-py2.py3-none-any.whl (7.0 kB)\n",
            "Installing collected packages: py3dmol\n",
            "Successfully installed py3dmol-2.4.0\n"
          ]
        }
      ]
    },
    {
      "cell_type": "code",
      "source": [
        "import py3Dmol\n",
        "\n",
        "p = py3Dmol.view(query='mmtf:1ycr')\n",
        "p.setStyle({'cartoon': {'color':'spectrum'}})"
      ],
      "metadata": {
        "colab": {
          "base_uri": "https://localhost:8080/",
          "height": 515
        },
        "id": "MIxZrWLlctwu",
        "outputId": "1840bad5-acee-460d-c924-2d3456fe667a"
      },
      "execution_count": 3,
      "outputs": [
        {
          "output_type": "display_data",
          "data": {
            "application/3dmoljs_load.v0": "<div id=\"3dmolviewer_17262991976148212\"  style=\"position: relative; width: 640px; height: 480px;\">\n        <p id=\"3dmolwarning_17262991976148212\" style=\"background-color:#ffcccc;color:black\">3Dmol.js failed to load for some reason.  Please check your browser console for error messages.<br></p>\n        </div>\n<script>\n\nvar loadScriptAsync = function(uri){\n  return new Promise((resolve, reject) => {\n    //this is to ignore the existence of requirejs amd\n    var savedexports, savedmodule;\n    if (typeof exports !== 'undefined') savedexports = exports;\n    else exports = {}\n    if (typeof module !== 'undefined') savedmodule = module;\n    else module = {}\n\n    var tag = document.createElement('script');\n    tag.src = uri;\n    tag.async = true;\n    tag.onload = () => {\n        exports = savedexports;\n        module = savedmodule;\n        resolve();\n    };\n  var firstScriptTag = document.getElementsByTagName('script')[0];\n  firstScriptTag.parentNode.insertBefore(tag, firstScriptTag);\n});\n};\n\nif(typeof $3Dmolpromise === 'undefined') {\n$3Dmolpromise = null;\n  $3Dmolpromise = loadScriptAsync('https://cdnjs.cloudflare.com/ajax/libs/3Dmol/2.4.0/3Dmol-min.js');\n}\n\nvar viewer_17262991976148212 = null;\nvar warn = document.getElementById(\"3dmolwarning_17262991976148212\");\nif(warn) {\n    warn.parentNode.removeChild(warn);\n}\n$3Dmolpromise.then(function() {\nviewer_17262991976148212 = $3Dmol.createViewer(document.getElementById(\"3dmolviewer_17262991976148212\"),{backgroundColor:\"white\"});\n$3Dmol.download(\"mmtf:1ycr\", viewer_17262991976148212, {}, function() {\nviewer_17262991976148212.zoomTo();\n\tviewer_17262991976148212.setStyle({\"cartoon\": {\"color\": \"spectrum\"}});\nviewer_17262991976148212.render();\n})\n});\n</script>",
            "text/html": [
              "<div id=\"3dmolviewer_17262991976148212\"  style=\"position: relative; width: 640px; height: 480px;\">\n",
              "        <p id=\"3dmolwarning_17262991976148212\" style=\"background-color:#ffcccc;color:black\">3Dmol.js failed to load for some reason.  Please check your browser console for error messages.<br></p>\n",
              "        </div>\n",
              "<script>\n",
              "\n",
              "var loadScriptAsync = function(uri){\n",
              "  return new Promise((resolve, reject) => {\n",
              "    //this is to ignore the existence of requirejs amd\n",
              "    var savedexports, savedmodule;\n",
              "    if (typeof exports !== 'undefined') savedexports = exports;\n",
              "    else exports = {}\n",
              "    if (typeof module !== 'undefined') savedmodule = module;\n",
              "    else module = {}\n",
              "\n",
              "    var tag = document.createElement('script');\n",
              "    tag.src = uri;\n",
              "    tag.async = true;\n",
              "    tag.onload = () => {\n",
              "        exports = savedexports;\n",
              "        module = savedmodule;\n",
              "        resolve();\n",
              "    };\n",
              "  var firstScriptTag = document.getElementsByTagName('script')[0];\n",
              "  firstScriptTag.parentNode.insertBefore(tag, firstScriptTag);\n",
              "});\n",
              "};\n",
              "\n",
              "if(typeof $3Dmolpromise === 'undefined') {\n",
              "$3Dmolpromise = null;\n",
              "  $3Dmolpromise = loadScriptAsync('https://cdnjs.cloudflare.com/ajax/libs/3Dmol/2.4.0/3Dmol-min.js');\n",
              "}\n",
              "\n",
              "var viewer_17262991976148212 = null;\n",
              "var warn = document.getElementById(\"3dmolwarning_17262991976148212\");\n",
              "if(warn) {\n",
              "    warn.parentNode.removeChild(warn);\n",
              "}\n",
              "$3Dmolpromise.then(function() {\n",
              "viewer_17262991976148212 = $3Dmol.createViewer(document.getElementById(\"3dmolviewer_17262991976148212\"),{backgroundColor:\"white\"});\n",
              "$3Dmol.download(\"mmtf:1ycr\", viewer_17262991976148212, {}, function() {\n",
              "viewer_17262991976148212.zoomTo();\n",
              "\tviewer_17262991976148212.setStyle({\"cartoon\": {\"color\": \"spectrum\"}});\n",
              "viewer_17262991976148212.render();\n",
              "})\n",
              "});\n",
              "</script>"
            ]
          },
          "metadata": {}
        },
        {
          "output_type": "execute_result",
          "data": {
            "text/plain": [
              "<py3Dmol.view at 0x7e5a27fe1480>"
            ]
          },
          "metadata": {},
          "execution_count": 3
        }
      ]
    },
    {
      "cell_type": "markdown",
      "source": [
        "#Heading 1\n",
        "\n",
        "This is the heading 1.1."
      ],
      "metadata": {
        "id": "6T-qhp0Tcztp"
      }
    },
    {
      "cell_type": "code",
      "source": [
        "a = 1\n",
        "b=\"mining\"\n",
        "c = [11,12,15,78,199]\n",
        "d = [\"manju\",\"pawan\",\"veera\",\"mahe\"]"
      ],
      "metadata": {
        "id": "Y8rWzhLDc0pE"
      },
      "execution_count": 5,
      "outputs": []
    },
    {
      "cell_type": "code",
      "source": [
        "for i,j in zip(c,d):\n",
        "  if i == 1:\n",
        "    print(j + \" has \" + str(i) + ' car')\n",
        "  else:\n",
        "    print(j + \" has \" + str(i) + ' cars')"
      ],
      "metadata": {
        "colab": {
          "base_uri": "https://localhost:8080/"
        },
        "id": "gQ_0V5EBc-u9",
        "outputId": "c4c9c41b-0275-4b82-9985-74480b2d0566"
      },
      "execution_count": 6,
      "outputs": [
        {
          "output_type": "stream",
          "name": "stdout",
          "text": [
            "manju has 11 cars\n",
            "pawan has 12 cars\n",
            "veera has 15 cars\n",
            "mahe has 78 cars\n"
          ]
        }
      ]
    },
    {
      "cell_type": "markdown",
      "source": [
        "## Heading 1.1\n",
        "\n",
        "This is the heading 1.1."
      ],
      "metadata": {
        "id": "5H7FSHdtdK6R"
      }
    },
    {
      "cell_type": "code",
      "source": [
        "var1 = 24"
      ],
      "metadata": {
        "id": "Xsk-XCPQdLq7"
      },
      "execution_count": 7,
      "outputs": []
    },
    {
      "cell_type": "markdown",
      "source": [
        "### Heading 1.1.1\n",
        "This is the heading 1.1.1.\n",
        "\n",
        "## Heading 1.2\n",
        "\n",
        "This is the heading 1.2"
      ],
      "metadata": {
        "id": "MH_1_sIMdWpQ"
      }
    },
    {
      "cell_type": "markdown",
      "source": [
        "#Colab Advance\n"
      ],
      "metadata": {
        "id": "jCYaaIxldkZs"
      }
    },
    {
      "cell_type": "code",
      "source": [
        "#Method 1: Access data from hosted zip\n",
        "\n",
        "!wget https://losc.ligo.org/s/events/LOSC_Event_tutorial.zip\n",
        "\n",
        "!unzip -j LOSC_Event_tutorial.zip LOSC_Event_tutorial/*.*\n",
        "\n",
        "#not able to get this particular zip file, but got a gist of how to get zip files and unzip them."
      ],
      "metadata": {
        "colab": {
          "base_uri": "https://localhost:8080/"
        },
        "id": "ttSN-NCQdsZY",
        "outputId": "3126aa5b-9304-4863-ad00-fb37aca9c69e"
      },
      "execution_count": 9,
      "outputs": [
        {
          "output_type": "stream",
          "name": "stdout",
          "text": [
            "--2024-09-14 07:37:21--  https://losc.ligo.org/s/events/LOSC_Event_tutorial.zip\n",
            "Resolving losc.ligo.org (losc.ligo.org)... 131.215.113.72\n",
            "Connecting to losc.ligo.org (losc.ligo.org)|131.215.113.72|:443... connected.\n",
            "HTTP request sent, awaiting response... 302 Found\n",
            "Location: https://gwosc.org/s/events/LOSC_Event_tutorial.zip [following]\n",
            "--2024-09-14 07:37:21--  https://gwosc.org/s/events/LOSC_Event_tutorial.zip\n",
            "Resolving gwosc.org (gwosc.org)... 131.215.113.72\n",
            "Connecting to gwosc.org (gwosc.org)|131.215.113.72|:443... connected.\n",
            "HTTP request sent, awaiting response... 404 Not Found\n",
            "2024-09-14 07:37:21 ERROR 404: Not Found.\n",
            "\n",
            "unzip:  cannot find or open LOSC_Event_tutorial.zip, LOSC_Event_tutorial.zip.zip or LOSC_Event_tutorial.zip.ZIP.\n"
          ]
        }
      ]
    },
    {
      "cell_type": "markdown",
      "source": [
        "Tried to access zip file to get data, but since the file seems to not exist anymore, cannot access it. But we can perform the same !wget and !unzip to get the file into the directory."
      ],
      "metadata": {
        "id": "vfok34g4d01w"
      }
    },
    {
      "cell_type": "markdown",
      "source": [
        "How to read different file extensions\n",
        "\n",
        "XLSX, CSV, HDF5- read using pandas library, then Pdf- read using pypdf afterthat JSON- read using json post that XML, HTML- read using BeautifulSoup."
      ],
      "metadata": {
        "id": "kPIy_TeLd5-K"
      }
    },
    {
      "cell_type": "code",
      "source": [
        "#Method 2: Access data from drive\n",
        "\n",
        "from google.colab import drive\n",
        "drive.mount('mount')"
      ],
      "metadata": {
        "colab": {
          "base_uri": "https://localhost:8080/"
        },
        "id": "iYtTThGDdwlh",
        "outputId": "bd6dd5e4-ea0d-4546-e6a6-bc8464d114d9"
      },
      "execution_count": 10,
      "outputs": [
        {
          "output_type": "stream",
          "name": "stdout",
          "text": [
            "Mounted at mount\n"
          ]
        }
      ]
    },
    {
      "cell_type": "code",
      "source": [
        "!cp mount/My\\Drive/train.csv  .\n",
        "print(\"Download successful\")"
      ],
      "metadata": {
        "colab": {
          "base_uri": "https://localhost:8080/"
        },
        "id": "SfaKRD6TeEIj",
        "outputId": "31610fe3-ba87-4bca-ac7e-171bc4e70817"
      },
      "execution_count": 11,
      "outputs": [
        {
          "output_type": "stream",
          "name": "stdout",
          "text": [
            "cp: cannot stat 'mount/MyDrive/train.csv': No such file or directory\n",
            "Download successful\n"
          ]
        }
      ]
    },
    {
      "cell_type": "code",
      "source": [
        "#Method 3: Access data from public shared file or folder\n",
        "\n",
        "!gdown  --id  0B7EVK8r0v71pZjFTYXZWM3FlRnM"
      ],
      "metadata": {
        "colab": {
          "base_uri": "https://localhost:8080/"
        },
        "id": "KhzNO1FjeMHZ",
        "outputId": "c5f40420-c42f-46e9-b4bd-b3a18f7fed1c"
      },
      "execution_count": 12,
      "outputs": [
        {
          "output_type": "stream",
          "name": "stdout",
          "text": [
            "/usr/local/lib/python3.10/dist-packages/gdown/__main__.py:132: FutureWarning: Option `--id` was deprecated in version 4.3.1 and will be removed in 5.0. You don't need to pass it anymore to use a file ID.\n",
            "  warnings.warn(\n",
            "Downloading...\n",
            "From (original): https://drive.google.com/uc?id=0B7EVK8r0v71pZjFTYXZWM3FlRnM\n",
            "From (redirected): https://drive.google.com/uc?id=0B7EVK8r0v71pZjFTYXZWM3FlRnM&confirm=t&uuid=6a314d1f-d833-4b4e-a7b1-ea9b1a4fce5b\n",
            "To: /content/img_align_celeba.zip\n",
            "100% 1.44G/1.44G [00:24<00:00, 59.0MB/s]\n"
          ]
        }
      ]
    },
    {
      "cell_type": "code",
      "source": [
        "#List all the zip files available\n",
        "\n",
        "!ls -al *.zip\n",
        "\n",
        "#List all csv files\n",
        "!ls -al *.csv"
      ],
      "metadata": {
        "colab": {
          "base_uri": "https://localhost:8080/"
        },
        "id": "yluOsenteNw4",
        "outputId": "435a9fcb-d04c-4e0f-de3a-3a825482cc2d"
      },
      "execution_count": 14,
      "outputs": [
        {
          "output_type": "stream",
          "name": "stdout",
          "text": [
            "-rw-r--r-- 1 root root 1443490838 Sep 14 07:39 img_align_celeba.zip\n",
            "ls: cannot access '*.csv': No such file or directory\n"
          ]
        }
      ]
    },
    {
      "cell_type": "markdown",
      "source": [
        "Method 4: Access data from private shared file or folder\n",
        "\n",
        "To get private files we need access and pyauth"
      ],
      "metadata": {
        "id": "EnvEMxm4eRe0"
      }
    },
    {
      "cell_type": "code",
      "source": [
        "#Authenticate\n",
        "\n",
        "from google.colab import auth\n",
        "auth.authenticate_user()\n",
        "\n",
        "#Google drive - pydrive\n",
        "#Google cloud storage - gsutil\n",
        "#Google cloud APIs - gcloud"
      ],
      "metadata": {
        "id": "gljuKnpUeSYm"
      },
      "execution_count": 15,
      "outputs": []
    },
    {
      "cell_type": "code",
      "source": [
        "# To download a folder from Google Drive\n",
        "\n",
        "folderId=\"1T9Z4BabNEPAXsg18oM9Nj-XmKTvVHZyL\""
      ],
      "metadata": {
        "id": "hZ3vqqleeWEV"
      },
      "execution_count": 16,
      "outputs": []
    },
    {
      "cell_type": "code",
      "source": [
        "def folderList(folderId):\n",
        "  from googleapiclient.discovery import build\n",
        "  gdrive = build('drive', 'v3').files()\n",
        "  res = gdrive.list(q=\"'%s' in parents\" % folderId).execute()\n",
        "  return [f['id'] for f in res['files']]\n",
        "\n",
        "folderList(folderId)\n",
        "\n",
        "# I have only one file under that particular folder"
      ],
      "metadata": {
        "colab": {
          "base_uri": "https://localhost:8080/"
        },
        "id": "muPu7AwleY3-",
        "outputId": "59c560e2-9e2e-43ea-ad05-dec781cd9920"
      },
      "execution_count": 17,
      "outputs": [
        {
          "output_type": "execute_result",
          "data": {
            "text/plain": [
              "['1IdRAatP07UJFt33q4aL4wC3cAXGPg_aG']"
            ]
          },
          "metadata": {},
          "execution_count": 17
        }
      ]
    },
    {
      "cell_type": "code",
      "source": [
        "def folderDownload(folderId):\n",
        "  for fid in folderList(folderId):\n",
        "    !gdown -q $fid\n",
        "\n",
        "folderDownload(folderId)"
      ],
      "metadata": {
        "colab": {
          "base_uri": "https://localhost:8080/"
        },
        "id": "vZ8C4Z4tecBE",
        "outputId": "da9def57-4fa9-460c-ebb6-4f5044c31e42"
      },
      "execution_count": 18,
      "outputs": [
        {
          "output_type": "stream",
          "name": "stdout",
          "text": [
            "Failed to retrieve file url:\n",
            "\n",
            "\tOnly the owner and editors can download this file. If you'd like to\n",
            "\tdownload it, please contact the owner.\n",
            "\n",
            "You may still be able to access the file from the browser:\n",
            "\n",
            "\thttps://drive.google.com/uc?id=1IdRAatP07UJFt33q4aL4wC3cAXGPg_aG\n",
            "\n",
            "but Gdown can't. Please check connections and permissions.\n"
          ]
        }
      ]
    },
    {
      "cell_type": "code",
      "source": [
        "#Forms and interaction\n",
        "\n",
        "#@title Examples\n",
        "\n",
        "text = 'value' #@param\n",
        "date_input = '2018-03-22' #@param {type:\"date\"}\n",
        "number_slider = 0 #@param {type:\"slider\", min:-1, max:1}\n",
        "dropdown = '1st option' #@param [\"1st option\", \"2nd option\"]"
      ],
      "metadata": {
        "id": "g5Js3r-TeeOw"
      },
      "execution_count": 19,
      "outputs": []
    },
    {
      "cell_type": "code",
      "source": [
        "# How to get libraries\n",
        "\n",
        "# !pip install library-name\n",
        "# !apt install package-name\n",
        "\n",
        "\n",
        "# Anaconda\n",
        "!wget -c https://repo.continuum.io/archive/Anaconda3-5.2.0-Linux-x86_64.sh\n",
        "!chmod +x Anaconda3-5.2.0-Linux-x86_64.sh\n",
        "!bash ./Anaconda3-5.2.0-Linux-x86_64.sh -b -f -p /usr/local\n",
        "!conda install -q -y --prefix /usr/local -c pytorch faiss-cpu\n",
        "import sys\n",
        "sys.path.append('/usr/local/lib/python3.6/site-packages/')"
      ],
      "metadata": {
        "colab": {
          "base_uri": "https://localhost:8080/"
        },
        "id": "HEi2-9bqege8",
        "outputId": "726cc813-3ea1-42ec-bdf0-2f333555b843"
      },
      "execution_count": 20,
      "outputs": [
        {
          "output_type": "stream",
          "name": "stdout",
          "text": [
            "--2024-09-14 07:43:02--  https://repo.continuum.io/archive/Anaconda3-5.2.0-Linux-x86_64.sh\n",
            "Resolving repo.continuum.io (repo.continuum.io)... 104.18.176.84, 104.18.177.84, 2606:4700::6812:b154, ...\n",
            "Connecting to repo.continuum.io (repo.continuum.io)|104.18.176.84|:443... connected.\n",
            "HTTP request sent, awaiting response... 301 Moved Permanently\n",
            "Location: https://repo.anaconda.com/archive/Anaconda3-5.2.0-Linux-x86_64.sh [following]\n",
            "--2024-09-14 07:43:02--  https://repo.anaconda.com/archive/Anaconda3-5.2.0-Linux-x86_64.sh\n",
            "Resolving repo.anaconda.com (repo.anaconda.com)... 104.16.191.158, 104.16.32.241, 2606:4700::6810:20f1, ...\n",
            "Connecting to repo.anaconda.com (repo.anaconda.com)|104.16.191.158|:443... connected.\n",
            "HTTP request sent, awaiting response... 200 OK\n",
            "Length: 651745206 (622M) [application/x-sh]\n",
            "Saving to: ‘Anaconda3-5.2.0-Linux-x86_64.sh’\n",
            "\n",
            "Anaconda3-5.2.0-Lin 100%[===================>] 621.55M  86.5MB/s    in 19s     \n",
            "\n",
            "2024-09-14 07:43:21 (33.5 MB/s) - ‘Anaconda3-5.2.0-Linux-x86_64.sh’ saved [651745206/651745206]\n",
            "\n",
            "PREFIX=/usr/local\n",
            "installing: python-3.6.5-hc3d631a_2 ...\n",
            "Python 3.6.5 :: Anaconda, Inc.\n",
            "installing: blas-1.0-mkl ...\n",
            "installing: ca-certificates-2018.03.07-0 ...\n",
            "installing: conda-env-2.6.0-h36134e3_1 ...\n",
            "installing: intel-openmp-2018.0.0-8 ...\n",
            "installing: libgcc-ng-7.2.0-hdf63c60_3 ...\n",
            "installing: libgfortran-ng-7.2.0-hdf63c60_3 ...\n",
            "installing: libstdcxx-ng-7.2.0-hdf63c60_3 ...\n",
            "installing: bzip2-1.0.6-h14c3975_5 ...\n",
            "installing: expat-2.2.5-he0dffb1_0 ...\n",
            "installing: gmp-6.1.2-h6c8ec71_1 ...\n",
            "installing: graphite2-1.3.11-h16798f4_2 ...\n",
            "installing: icu-58.2-h9c2bf20_1 ...\n",
            "installing: jbig-2.1-hdba287a_0 ...\n",
            "installing: jpeg-9b-h024ee3a_2 ...\n",
            "installing: libffi-3.2.1-hd88cf55_4 ...\n",
            "installing: libsodium-1.0.16-h1bed415_0 ...\n",
            "installing: libtool-2.4.6-h544aabb_3 ...\n",
            "installing: libxcb-1.13-h1bed415_1 ...\n",
            "installing: lzo-2.10-h49e0be7_2 ...\n",
            "installing: mkl-2018.0.2-1 ...\n",
            "installing: ncurses-6.1-hf484d3e_0 ...\n",
            "installing: openssl-1.0.2o-h20670df_0 ...\n",
            "installing: patchelf-0.9-hf79760b_2 ...\n",
            "installing: pcre-8.42-h439df22_0 ...\n",
            "installing: pixman-0.34.0-hceecf20_3 ...\n",
            "installing: snappy-1.1.7-hbae5bb6_3 ...\n",
            "installing: tk-8.6.7-hc745277_3 ...\n",
            "installing: unixodbc-2.3.6-h1bed415_0 ...\n",
            "installing: xz-5.2.4-h14c3975_4 ...\n",
            "installing: yaml-0.1.7-had09818_2 ...\n",
            "installing: zlib-1.2.11-ha838bed_2 ...\n",
            "installing: blosc-1.14.3-hdbcaa40_0 ...\n",
            "installing: glib-2.56.1-h000015b_0 ...\n",
            "installing: hdf5-1.10.2-hba1933b_1 ...\n",
            "installing: libedit-3.1.20170329-h6b74fdf_2 ...\n",
            "installing: libpng-1.6.34-hb9fc6fc_0 ...\n",
            "installing: libssh2-1.8.0-h9cfc8f7_4 ...\n",
            "installing: libtiff-4.0.9-he85c1e1_1 ...\n",
            "installing: libxml2-2.9.8-h26e45fe_1 ...\n",
            "installing: mpfr-3.1.5-h11a74b3_2 ...\n",
            "installing: pandoc-1.19.2.1-hea2e7c5_1 ...\n",
            "installing: readline-7.0-ha6073c6_4 ...\n",
            "installing: zeromq-4.2.5-h439df22_0 ...\n",
            "installing: dbus-1.13.2-h714fa37_1 ...\n",
            "installing: freetype-2.8-hab7d2ae_1 ...\n",
            "installing: gstreamer-1.14.0-hb453b48_1 ...\n",
            "installing: libcurl-7.60.0-h1ad7b7a_0 ...\n",
            "installing: libxslt-1.1.32-h1312cb7_0 ...\n",
            "installing: mpc-1.0.3-hec55b23_5 ...\n",
            "installing: sqlite-3.23.1-he433501_0 ...\n",
            "installing: curl-7.60.0-h84994c4_0 ...\n",
            "installing: fontconfig-2.12.6-h49f89f6_0 ...\n",
            "installing: gst-plugins-base-1.14.0-hbbd80ab_1 ...\n",
            "installing: alabaster-0.7.10-py36h306e16b_0 ...\n",
            "installing: asn1crypto-0.24.0-py36_0 ...\n",
            "installing: attrs-18.1.0-py36_0 ...\n",
            "installing: backcall-0.1.0-py36_0 ...\n",
            "installing: backports-1.0-py36hfa02d7e_1 ...\n",
            "installing: beautifulsoup4-4.6.0-py36h49b8c8c_1 ...\n",
            "installing: bitarray-0.8.1-py36h14c3975_1 ...\n",
            "installing: boto-2.48.0-py36h6e4cd66_1 ...\n",
            "installing: cairo-1.14.12-h7636065_2 ...\n",
            "installing: certifi-2018.4.16-py36_0 ...\n",
            "installing: chardet-3.0.4-py36h0f667ec_1 ...\n",
            "installing: click-6.7-py36h5253387_0 ...\n",
            "installing: cloudpickle-0.5.3-py36_0 ...\n",
            "installing: colorama-0.3.9-py36h489cec4_0 ...\n",
            "installing: contextlib2-0.5.5-py36h6c84a62_0 ...\n",
            "installing: dask-core-0.17.5-py36_0 ...\n",
            "installing: decorator-4.3.0-py36_0 ...\n",
            "installing: docutils-0.14-py36hb0f60f5_0 ...\n",
            "installing: entrypoints-0.2.3-py36h1aec115_2 ...\n",
            "installing: et_xmlfile-1.0.1-py36hd6bccc3_0 ...\n",
            "installing: fastcache-1.0.2-py36h14c3975_2 ...\n",
            "installing: filelock-3.0.4-py36_0 ...\n",
            "installing: glob2-0.6-py36he249c77_0 ...\n",
            "installing: gmpy2-2.0.8-py36hc8893dd_2 ...\n",
            "installing: greenlet-0.4.13-py36h14c3975_0 ...\n",
            "installing: heapdict-1.0.0-py36_2 ...\n",
            "installing: idna-2.6-py36h82fb2a8_1 ...\n",
            "installing: imagesize-1.0.0-py36_0 ...\n",
            "installing: ipython_genutils-0.2.0-py36hb52b0d5_0 ...\n",
            "installing: itsdangerous-0.24-py36h93cc618_1 ...\n",
            "installing: jdcal-1.4-py36_0 ...\n",
            "installing: kiwisolver-1.0.1-py36h764f252_0 ...\n",
            "installing: lazy-object-proxy-1.3.1-py36h10fcdad_0 ...\n",
            "installing: llvmlite-0.23.1-py36hdbcaa40_0 ...\n",
            "installing: locket-0.2.0-py36h787c0ad_1 ...\n",
            "installing: lxml-4.2.1-py36h23eabaa_0 ...\n",
            "installing: markupsafe-1.0-py36hd9260cd_1 ...\n",
            "installing: mccabe-0.6.1-py36h5ad9710_1 ...\n",
            "installing: mistune-0.8.3-py36h14c3975_1 ...\n",
            "installing: mkl-service-1.1.2-py36h17a0993_4 ...\n",
            "installing: mpmath-1.0.0-py36hfeacd6b_2 ...\n",
            "installing: msgpack-python-0.5.6-py36h6bb024c_0 ...\n",
            "installing: multipledispatch-0.5.0-py36_0 ...\n",
            "installing: numpy-base-1.14.3-py36h9be14a7_1 ...\n",
            "installing: olefile-0.45.1-py36_0 ...\n",
            "installing: pandocfilters-1.4.2-py36ha6701b7_1 ...\n",
            "installing: parso-0.2.0-py36_0 ...\n",
            "installing: path.py-11.0.1-py36_0 ...\n",
            "installing: pep8-1.7.1-py36_0 ...\n",
            "installing: pickleshare-0.7.4-py36h63277f8_0 ...\n",
            "installing: pkginfo-1.4.2-py36_1 ...\n",
            "installing: pluggy-0.6.0-py36hb689045_0 ...\n",
            "installing: ply-3.11-py36_0 ...\n",
            "installing: psutil-5.4.5-py36h14c3975_0 ...\n",
            "installing: ptyprocess-0.5.2-py36h69acd42_0 ...\n",
            "installing: py-1.5.3-py36_0 ...\n",
            "installing: pycodestyle-2.4.0-py36_0 ...\n",
            "installing: pycosat-0.6.3-py36h0a5515d_0 ...\n",
            "installing: pycparser-2.18-py36hf9f622e_1 ...\n",
            "installing: pycrypto-2.6.1-py36h14c3975_8 ...\n",
            "installing: pycurl-7.43.0.1-py36hb7f436b_0 ...\n",
            "installing: pyodbc-4.0.23-py36hf484d3e_0 ...\n",
            "installing: pyparsing-2.2.0-py36hee85983_1 ...\n",
            "installing: pysocks-1.6.8-py36_0 ...\n",
            "installing: pytz-2018.4-py36_0 ...\n",
            "installing: pyyaml-3.12-py36hafb9ca4_1 ...\n",
            "installing: pyzmq-17.0.0-py36h14c3975_0 ...\n",
            "installing: qt-5.9.5-h7e424d6_0 ...\n",
            "installing: qtpy-1.4.1-py36_0 ...\n",
            "installing: rope-0.10.7-py36h147e2ec_0 ...\n",
            "installing: ruamel_yaml-0.15.35-py36h14c3975_1 ...\n",
            "installing: send2trash-1.5.0-py36_0 ...\n",
            "installing: simplegeneric-0.8.1-py36_2 ...\n",
            "installing: sip-4.19.8-py36hf484d3e_0 ...\n",
            "installing: six-1.11.0-py36h372c433_1 ...\n",
            "installing: snowballstemmer-1.2.1-py36h6febd40_0 ...\n",
            "installing: sortedcontainers-1.5.10-py36_0 ...\n",
            "installing: sphinxcontrib-1.0-py36h6d0f590_1 ...\n",
            "installing: sqlalchemy-1.2.7-py36h6b74fdf_0 ...\n",
            "installing: tblib-1.3.2-py36h34cf8b6_0 ...\n",
            "installing: testpath-0.3.1-py36h8cadb63_0 ...\n",
            "installing: toolz-0.9.0-py36_0 ...\n",
            "installing: tornado-5.0.2-py36_0 ...\n",
            "installing: typing-3.6.4-py36_0 ...\n",
            "installing: unicodecsv-0.14.1-py36ha668878_0 ...\n",
            "installing: wcwidth-0.1.7-py36hdf4376a_0 ...\n",
            "installing: webencodings-0.5.1-py36h800622e_1 ...\n",
            "installing: werkzeug-0.14.1-py36_0 ...\n",
            "installing: wrapt-1.10.11-py36h28b7045_0 ...\n",
            "installing: xlrd-1.1.0-py36h1db9f0c_1 ...\n",
            "installing: xlsxwriter-1.0.4-py36_0 ...\n",
            "installing: xlwt-1.3.0-py36h7b00a1f_0 ...\n",
            "installing: babel-2.5.3-py36_0 ...\n",
            "installing: backports.shutil_get_terminal_size-1.0.0-py36hfea85ff_2 ...\n",
            "installing: cffi-1.11.5-py36h9745a5d_0 ...\n",
            "installing: conda-verify-2.0.0-py36h98955d8_0 ...\n",
            "installing: cycler-0.10.0-py36h93f1223_0 ...\n",
            "installing: cytoolz-0.9.0.1-py36h14c3975_0 ...\n",
            "installing: harfbuzz-1.7.6-h5f0a787_1 ...\n",
            "installing: html5lib-1.0.1-py36h2f9c1c0_0 ...\n",
            "installing: jedi-0.12.0-py36_1 ...\n",
            "installing: more-itertools-4.1.0-py36_0 ...\n",
            "installing: networkx-2.1-py36_0 ...\n",
            "installing: nltk-3.3.0-py36_0 ...\n",
            "installing: openpyxl-2.5.3-py36_0 ...\n",
            "installing: packaging-17.1-py36_0 ...\n",
            "installing: partd-0.3.8-py36h36fd896_0 ...\n",
            "installing: pathlib2-2.3.2-py36_0 ...\n",
            "installing: pexpect-4.5.0-py36_0 ...\n",
            "installing: pillow-5.1.0-py36h3deb7b8_0 ...\n",
            "installing: pyqt-5.9.2-py36h751905a_0 ...\n",
            "installing: python-dateutil-2.7.3-py36_0 ...\n",
            "installing: qtawesome-0.4.4-py36h609ed8c_0 ...\n",
            "installing: setuptools-39.1.0-py36_0 ...\n",
            "installing: singledispatch-3.4.0.3-py36h7a266c3_0 ...\n",
            "installing: sortedcollections-0.6.1-py36_0 ...\n",
            "installing: sphinxcontrib-websupport-1.0.1-py36hb5cb234_1 ...\n",
            "installing: sympy-1.1.1-py36hc6d1c1c_0 ...\n",
            "installing: terminado-0.8.1-py36_1 ...\n",
            "installing: traitlets-4.3.2-py36h674d592_0 ...\n",
            "installing: zict-0.1.3-py36h3a3bf81_0 ...\n",
            "installing: astroid-1.6.3-py36_0 ...\n",
            "installing: bleach-2.1.3-py36_0 ...\n",
            "installing: clyent-1.2.2-py36h7e57e65_1 ...\n",
            "installing: cryptography-2.2.2-py36h14c3975_0 ...\n",
            "installing: cython-0.28.2-py36h14c3975_0 ...\n",
            "installing: distributed-1.21.8-py36_0 ...\n",
            "installing: get_terminal_size-1.0.0-haa9412d_0 ...\n",
            "installing: gevent-1.3.0-py36h14c3975_0 ...\n",
            "installing: isort-4.3.4-py36_0 ...\n",
            "installing: jinja2-2.10-py36ha16c418_0 ...\n",
            "installing: jsonschema-2.6.0-py36h006f8b5_0 ...\n",
            "installing: jupyter_core-4.4.0-py36h7c827e3_0 ...\n",
            "installing: navigator-updater-0.2.1-py36_0 ...\n",
            "installing: nose-1.3.7-py36hcdf7029_2 ...\n",
            "installing: pango-1.41.0-hd475d92_0 ...\n",
            "installing: pyflakes-1.6.0-py36h7bd6a15_0 ...\n",
            "installing: pygments-2.2.0-py36h0d3125c_0 ...\n",
            "installing: pytest-3.5.1-py36_0 ...\n",
            "installing: wheel-0.31.1-py36_0 ...\n",
            "installing: flask-1.0.2-py36_1 ...\n",
            "installing: jupyter_client-5.2.3-py36_0 ...\n",
            "installing: nbformat-4.4.0-py36h31c9010_0 ...\n",
            "installing: pip-10.0.1-py36_0 ...\n",
            "installing: prompt_toolkit-1.0.15-py36h17d85b1_0 ...\n",
            "installing: pylint-1.8.4-py36_0 ...\n",
            "installing: pyopenssl-18.0.0-py36_0 ...\n",
            "installing: pytest-openfiles-0.3.0-py36_0 ...\n",
            "installing: pytest-remotedata-0.2.1-py36_0 ...\n",
            "installing: flask-cors-3.0.4-py36_0 ...\n",
            "installing: ipython-6.4.0-py36_0 ...\n",
            "installing: nbconvert-5.3.1-py36hb41ffb7_0 ...\n",
            "installing: urllib3-1.22-py36hbe7ace6_0 ...\n",
            "installing: ipykernel-4.8.2-py36_0 ...\n",
            "installing: requests-2.18.4-py36he2e5f8d_1 ...\n",
            "installing: anaconda-client-1.6.14-py36_0 ...\n",
            "installing: jupyter_console-5.2.0-py36he59e554_1 ...\n",
            "installing: notebook-5.5.0-py36_0 ...\n",
            "installing: qtconsole-4.3.1-py36h8f73b5b_0 ...\n",
            "installing: sphinx-1.7.4-py36_0 ...\n",
            "installing: anaconda-navigator-1.8.7-py36_0 ...\n",
            "installing: anaconda-project-0.8.2-py36h44fb852_0 ...\n",
            "installing: jupyterlab_launcher-0.10.5-py36_0 ...\n",
            "installing: numpydoc-0.8.0-py36_0 ...\n",
            "installing: widgetsnbextension-3.2.1-py36_0 ...\n",
            "installing: ipywidgets-7.2.1-py36_0 ...\n",
            "installing: jupyterlab-0.32.1-py36_0 ...\n",
            "installing: spyder-3.2.8-py36_0 ...\n",
            "installing: _ipyw_jlab_nb_ext_conf-0.1.0-py36he11e457_0 ...\n",
            "installing: jupyter-1.0.0-py36_4 ...\n",
            "installing: bokeh-0.12.16-py36_0 ...\n",
            "installing: bottleneck-1.2.1-py36haac1ea0_0 ...\n",
            "installing: conda-4.5.4-py36_0 ...\n",
            "installing: conda-build-3.10.5-py36_0 ...\n",
            "installing: datashape-0.5.4-py36h3ad6b5c_0 ...\n",
            "installing: h5py-2.7.1-py36ha1f6525_2 ...\n",
            "installing: imageio-2.3.0-py36_0 ...\n",
            "installing: matplotlib-2.2.2-py36h0e671d2_1 ...\n",
            "installing: mkl_fft-1.0.1-py36h3010b51_0 ...\n",
            "installing: mkl_random-1.0.1-py36h629b387_0 ...\n",
            "installing: numpy-1.14.3-py36hcd700cb_1 ...\n",
            "installing: numba-0.38.0-py36h637b7d7_0 ...\n",
            "installing: numexpr-2.6.5-py36h7bf3b9c_0 ...\n",
            "installing: pandas-0.23.0-py36h637b7d7_0 ...\n",
            "installing: pytest-arraydiff-0.2-py36_0 ...\n",
            "installing: pytest-doctestplus-0.1.3-py36_0 ...\n",
            "installing: pywavelets-0.5.2-py36he602eb0_0 ...\n",
            "installing: scipy-1.1.0-py36hfc37229_0 ...\n",
            "installing: bkcharts-0.2-py36h735825a_0 ...\n",
            "installing: dask-0.17.5-py36_0 ...\n",
            "installing: patsy-0.5.0-py36_0 ...\n",
            "installing: pytables-3.4.3-py36h02b9ad4_2 ...\n",
            "installing: pytest-astropy-0.3.0-py36_0 ...\n",
            "installing: scikit-learn-0.19.1-py36h7aa7ec6_0 ...\n",
            "installing: astropy-3.0.2-py36h3010b51_1 ...\n",
            "installing: odo-0.5.1-py36h90ed295_0 ...\n",
            "installing: scikit-image-0.13.1-py36h14c3975_1 ...\n",
            "installing: statsmodels-0.9.0-py36h3010b51_0 ...\n",
            "installing: blaze-0.11.3-py36h4e06776_0 ...\n",
            "installing: seaborn-0.8.1-py36hfad7ec4_0 ...\n",
            "installing: anaconda-5.2.0-py36_3 ...\n",
            "installation finished.\n",
            "WARNING:\n",
            "    You currently have a PYTHONPATH environment variable set. This may cause\n",
            "    unexpected behavior when running the Python interpreter in Anaconda3.\n",
            "    For best results, please verify that your PYTHONPATH only points to\n",
            "    directories of packages that are compatible with the Python interpreter\n",
            "    in Anaconda3: /usr/local\n",
            "Solving environment: ...working... failed\n",
            "\n",
            "InvalidVersionSpecError: Invalid version spec: =2.7\n",
            "\n"
          ]
        }
      ]
    },
    {
      "cell_type": "code",
      "source": [
        "#Magic\n",
        "import rpy2\n",
        "%load_ext rpy2.ipython"
      ],
      "metadata": {
        "id": "TorhV9qPejD0"
      },
      "execution_count": 21,
      "outputs": []
    },
    {
      "cell_type": "code",
      "source": [
        "%%R\n",
        "x <- 42\n",
        "print(x)"
      ],
      "metadata": {
        "colab": {
          "base_uri": "https://localhost:8080/"
        },
        "id": "CT-fLhfVepCV",
        "outputId": "fb3296cc-5fbc-49fd-d34a-a5e9993dab39"
      },
      "execution_count": 22,
      "outputs": [
        {
          "output_type": "stream",
          "name": "stdout",
          "text": [
            "[1] 42\n"
          ]
        }
      ]
    },
    {
      "cell_type": "markdown",
      "source": [
        "Elasticsearch Magic\n",
        "Decorate es function, takes in data."
      ],
      "metadata": {
        "id": "AH0SpPjIexwH"
      }
    },
    {
      "cell_type": "code",
      "source": [
        "!wget https://artifacts.elastic.co/downloads/elasticsearch/elasticsearch-7.0.0-linux-x86_64.tar.gz -q\n",
        "!tar -xzf elasticsearch-7.0.0-linux-x86_64.tar.gz\n",
        "!chown -R daemon:daemon elasticsearch-7.0.0"
      ],
      "metadata": {
        "id": "OCFTFZNlesEm"
      },
      "execution_count": 23,
      "outputs": []
    },
    {
      "cell_type": "code",
      "source": [
        "import os\n",
        "from subprocess import Popen, PIPE, STDOUT\n",
        "es_server = Popen(['elasticsearch-7.0.0/bin/elasticsearch'],\n",
        "                  stdout=PIPE, stderr=STDOUT,\n",
        "                  preexec_fn=lambda: os.setuid(1)  # as daemon\n",
        "                 )"
      ],
      "metadata": {
        "id": "mGWMfpyXe3P7"
      },
      "execution_count": 24,
      "outputs": []
    },
    {
      "cell_type": "code",
      "source": [
        "!curl -X GET \"localhost:9200/\""
      ],
      "metadata": {
        "colab": {
          "base_uri": "https://localhost:8080/"
        },
        "id": "BJyJFdj_fMRv",
        "outputId": "c1febefa-c745-4071-dc5f-0f47351ffb57"
      },
      "execution_count": 25,
      "outputs": [
        {
          "output_type": "stream",
          "name": "stdout",
          "text": [
            "curl: (7) Failed to connect to localhost port 9200: Connection refused\n"
          ]
        }
      ]
    },
    {
      "cell_type": "code",
      "source": [
        "from requests import models, Session, Request\n",
        "from urllib.parse import urljoin\n",
        "from IPython.core.magic import register_cell_magic\n",
        "import re\n",
        "\n",
        "def render(r):\n",
        "  text = r.text\n",
        "  if text[0] in \"[{\":\n",
        "    return \"\"\"\n",
        "    <script src=\"https://rawgit.com/caldwell/renderjson/master/renderjson.js\"></script>\n",
        "    <script>\n",
        "    renderjson.set_show_to_level(1)\n",
        "    document.body.appendChild(renderjson(%s))\n",
        "    new ResizeObserver(google.colab.output.resizeIframeToContent).observe(document.body)\n",
        "    </script>\n",
        "    \"\"\" % text\n",
        "  else:\n",
        "    return \"<pre>%s</pre>\" % text\n",
        "models.Response._repr_html_ = render"
      ],
      "metadata": {
        "id": "Ke0zoXv_fOHJ"
      },
      "execution_count": 26,
      "outputs": []
    },
    {
      "cell_type": "code",
      "source": [
        "@register_cell_magic\n",
        "def es(line=None, cell=\"\"):\n",
        "  cell = re.sub(r'(?m)^\\s*#.*\\n?','', cell)\n",
        "  line1 = (cell + '\\n').find('\\n')\n",
        "  method, path = cell[:line1].split(None, 1)\n",
        "  body = cell[line1:].strip()\n",
        "  args = {}\n",
        "  if body:\n",
        "    args['data'] = (body + '\\n').encode()\n",
        "    args['headers'] = {'Content-Type': 'application/json'}\n",
        "\n",
        "  rsp = Session().send(\n",
        "          Request(method, urljoin('http://localhost:9200', path), **args)\n",
        "            .prepare())\n",
        "  return rsp"
      ],
      "metadata": {
        "id": "AX657wl4fRZD"
      },
      "execution_count": 27,
      "outputs": []
    },
    {
      "cell_type": "code",
      "source": [
        "%%es\n",
        "GET /"
      ],
      "metadata": {
        "colab": {
          "base_uri": "https://localhost:8080/",
          "height": 139
        },
        "id": "xIuvTFBTfTZ-",
        "outputId": "1de86158-47de-4ea8-ec85-3218a980e545"
      },
      "execution_count": 31,
      "outputs": [
        {
          "output_type": "execute_result",
          "data": {
            "text/plain": [
              "<Response [200]>"
            ],
            "text/html": [
              "\n",
              "    <script src=\"https://rawgit.com/caldwell/renderjson/master/renderjson.js\"></script>\n",
              "    <script>\n",
              "    renderjson.set_show_to_level(1)\n",
              "    document.body.appendChild(renderjson({\n",
              "  \"name\" : \"6ed1d1e27adc\",\n",
              "  \"cluster_name\" : \"elasticsearch\",\n",
              "  \"cluster_uuid\" : \"WcPCKVc2RHyakgCYVZ0zaA\",\n",
              "  \"version\" : {\n",
              "    \"number\" : \"7.0.0\",\n",
              "    \"build_flavor\" : \"default\",\n",
              "    \"build_type\" : \"tar\",\n",
              "    \"build_hash\" : \"b7e28a7\",\n",
              "    \"build_date\" : \"2019-04-05T22:55:32.697037Z\",\n",
              "    \"build_snapshot\" : false,\n",
              "    \"lucene_version\" : \"8.0.0\",\n",
              "    \"minimum_wire_compatibility_version\" : \"6.7.0\",\n",
              "    \"minimum_index_compatibility_version\" : \"6.0.0-beta1\"\n",
              "  },\n",
              "  \"tagline\" : \"You Know, for Search\"\n",
              "}\n",
              "))\n",
              "    new ResizeObserver(google.colab.output.resizeIframeToContent).observe(document.body)\n",
              "    </script>\n",
              "    "
            ]
          },
          "metadata": {},
          "execution_count": 31
        }
      ]
    },
    {
      "cell_type": "code",
      "source": [
        "%%es\n",
        "PUT /customer/_doc/1\n",
        "{\n",
        "  \"name\": \"Manjunatha inti\"\n",
        "}"
      ],
      "metadata": {
        "colab": {
          "base_uri": "https://localhost:8080/",
          "height": 191
        },
        "id": "scbgL4bHfV8L",
        "outputId": "4e2466de-7f78-4b9b-ea70-9bf58729553a"
      },
      "execution_count": 32,
      "outputs": [
        {
          "output_type": "execute_result",
          "data": {
            "text/plain": [
              "<Response [201]>"
            ],
            "text/html": [
              "\n",
              "    <script src=\"https://rawgit.com/caldwell/renderjson/master/renderjson.js\"></script>\n",
              "    <script>\n",
              "    renderjson.set_show_to_level(1)\n",
              "    document.body.appendChild(renderjson({\"_index\":\"customer\",\"_type\":\"_doc\",\"_id\":\"1\",\"_version\":1,\"result\":\"created\",\"_shards\":{\"total\":2,\"successful\":1,\"failed\":0},\"_seq_no\":0,\"_primary_term\":1}))\n",
              "    new ResizeObserver(google.colab.output.resizeIframeToContent).observe(document.body)\n",
              "    </script>\n",
              "    "
            ]
          },
          "metadata": {},
          "execution_count": 32
        }
      ]
    },
    {
      "cell_type": "code",
      "source": [
        "%%es\n",
        "PUT customer/_doc/2\n",
        "{\n",
        "  \"name\": \"Lilo\"\n",
        "}"
      ],
      "metadata": {
        "colab": {
          "base_uri": "https://localhost:8080/",
          "height": 191
        },
        "id": "PtiUJJvsfYvK",
        "outputId": "8bc34f57-8f5a-41cd-c4e2-a7e855d9dccb"
      },
      "execution_count": 33,
      "outputs": [
        {
          "output_type": "execute_result",
          "data": {
            "text/plain": [
              "<Response [201]>"
            ],
            "text/html": [
              "\n",
              "    <script src=\"https://rawgit.com/caldwell/renderjson/master/renderjson.js\"></script>\n",
              "    <script>\n",
              "    renderjson.set_show_to_level(1)\n",
              "    document.body.appendChild(renderjson({\"_index\":\"customer\",\"_type\":\"_doc\",\"_id\":\"2\",\"_version\":1,\"result\":\"created\",\"_shards\":{\"total\":2,\"successful\":1,\"failed\":0},\"_seq_no\":1,\"_primary_term\":1}))\n",
              "    new ResizeObserver(google.colab.output.resizeIframeToContent).observe(document.body)\n",
              "    </script>\n",
              "    "
            ]
          },
          "metadata": {},
          "execution_count": 33
        }
      ]
    },
    {
      "cell_type": "code",
      "source": [
        "%%es\n",
        "GET customer/"
      ],
      "metadata": {
        "colab": {
          "base_uri": "https://localhost:8080/",
          "height": 69
        },
        "id": "1tz5xb6TfaoK",
        "outputId": "5c3b88c4-502b-44f6-e5d7-48e8cef97d36"
      },
      "execution_count": 34,
      "outputs": [
        {
          "output_type": "execute_result",
          "data": {
            "text/plain": [
              "<Response [200]>"
            ],
            "text/html": [
              "\n",
              "    <script src=\"https://rawgit.com/caldwell/renderjson/master/renderjson.js\"></script>\n",
              "    <script>\n",
              "    renderjson.set_show_to_level(1)\n",
              "    document.body.appendChild(renderjson({\"customer\":{\"aliases\":{},\"mappings\":{\"properties\":{\"name\":{\"type\":\"text\",\"fields\":{\"keyword\":{\"type\":\"keyword\",\"ignore_above\":256}}}}},\"settings\":{\"index\":{\"creation_date\":\"1726300288111\",\"number_of_shards\":\"1\",\"number_of_replicas\":\"1\",\"uuid\":\"eiy7DEUGTQudpMFob0M6yg\",\"version\":{\"created\":\"7000099\"},\"provided_name\":\"customer\"}}}}))\n",
              "    new ResizeObserver(google.colab.output.resizeIframeToContent).observe(document.body)\n",
              "    </script>\n",
              "    "
            ]
          },
          "metadata": {},
          "execution_count": 34
        }
      ]
    },
    {
      "cell_type": "markdown",
      "source": [
        "##Python-JS Communication\n",
        "\n",
        "1. Python calls JS\n",
        "2. JS calls Python"
      ],
      "metadata": {
        "id": "6w_vrA5AfdDo"
      }
    },
    {
      "cell_type": "markdown",
      "source": [
        "Python calls JS"
      ],
      "metadata": {
        "id": "mp9PlD9wfi3P"
      }
    },
    {
      "cell_type": "code",
      "source": [
        "%%html\n",
        "<script>\n",
        "document.body.append(document.createTextNode(\"manjunath inti here\"))\n",
        "</script>"
      ],
      "metadata": {
        "colab": {
          "base_uri": "https://localhost:8080/",
          "height": 34
        },
        "id": "YvdUDA6WfgFP",
        "outputId": "4b0768bb-38c2-43c3-e922-327ce37fb776"
      },
      "execution_count": 35,
      "outputs": [
        {
          "output_type": "display_data",
          "data": {
            "text/plain": [
              "<IPython.core.display.HTML object>"
            ],
            "text/html": [
              "<script>\n",
              "document.body.append(document.createTextNode(\"manjunath inti here\"))\n",
              "</script>\n"
            ]
          },
          "metadata": {}
        }
      ]
    },
    {
      "cell_type": "code",
      "source": [
        "from IPython.display import Javascript\n",
        "Javascript('document.body.append(document.createTextNode(\"manjunatha inti\"))')"
      ],
      "metadata": {
        "colab": {
          "base_uri": "https://localhost:8080/",
          "height": 34
        },
        "id": "wRewdBaXfo-W",
        "outputId": "f5d064a0-046a-4eaf-e168-85a47bd4dca5"
      },
      "execution_count": 36,
      "outputs": [
        {
          "output_type": "execute_result",
          "data": {
            "text/plain": [
              "<IPython.core.display.Javascript object>"
            ],
            "application/javascript": [
              "document.body.append(document.createTextNode(\"manjunatha inti\"))"
            ]
          },
          "metadata": {},
          "execution_count": 36
        }
      ]
    },
    {
      "cell_type": "code",
      "source": [
        "from google.colab.output import eval_js\n",
        "eval_js('1+1')"
      ],
      "metadata": {
        "colab": {
          "base_uri": "https://localhost:8080/",
          "height": 35
        },
        "id": "pHcjyFqyfs1h",
        "outputId": "0bd7bb22-18d9-4463-f694-647b059b6739"
      },
      "execution_count": 37,
      "outputs": [
        {
          "output_type": "execute_result",
          "data": {
            "text/plain": [
              "2"
            ]
          },
          "metadata": {},
          "execution_count": 37
        }
      ]
    },
    {
      "cell_type": "markdown",
      "source": [
        "###JS calls Python"
      ],
      "metadata": {
        "id": "RvZgv5_7fwuN"
      }
    },
    {
      "cell_type": "code",
      "source": [
        "from IPython.display import HTML, Image\n",
        "from google.colab.output import eval_js\n",
        "from base64 import b64decode"
      ],
      "metadata": {
        "id": "bB1c2LZ8fuKJ"
      },
      "execution_count": 38,
      "outputs": []
    },
    {
      "cell_type": "code",
      "source": [
        "VIDEO_HTML = \"\"\"\n",
        "<video autoplay\n",
        " width=800 height=600></video>\n",
        "<script>\n",
        "var video = document.querySelector('video')\n",
        "navigator.mediaDevices.getUserMedia({ video: true })\n",
        "  .then(stream=> video.srcObject = stream)\n",
        "\n",
        "var data = new Promise(resolve=>{\n",
        "  video.onclick = ()=>{\n",
        "    var canvas = document.createElement('canvas')\n",
        "    var [w,h] = [video.offsetWidth, video.offsetHeight]\n",
        "    canvas.width = w\n",
        "    canvas.height = h\n",
        "    canvas.getContext('2d')\n",
        "          .drawImage(video, 0, 0, w, h)\n",
        "    video.srcObject.getVideoTracks()[0].stop()\n",
        "    video.replaceWith(canvas)\n",
        "    resolve(canvas.toDataURL('image/jpeg', %f))\n",
        "  }\n",
        "})\n",
        "</script>\n",
        "\"\"\""
      ],
      "metadata": {
        "id": "ktMKeIzHfzLO"
      },
      "execution_count": 39,
      "outputs": []
    },
    {
      "cell_type": "code",
      "source": [
        "def takePhoto(filename='photo.jpg', quality=0.8):\n",
        "  display(HTML(VIDEO_HTML % quality))\n",
        "  data = eval_js(\"data\")\n",
        "  binary = b64decode(data.split(',')[1])\n",
        "  with open(filename, 'wb') as f:\n",
        "    f.write(binary)\n",
        "  return len(binary)"
      ],
      "metadata": {
        "id": "vWFMevG6f1XC"
      },
      "execution_count": 40,
      "outputs": []
    },
    {
      "cell_type": "code",
      "source": [
        "takePhoto()"
      ],
      "metadata": {
        "colab": {
          "base_uri": "https://localhost:8080/",
          "height": 897
        },
        "id": "lPTvkIddf3IG",
        "outputId": "15f95c09-baab-455c-d94e-a15b57b2c6bc"
      },
      "execution_count": 49,
      "outputs": [
        {
          "output_type": "display_data",
          "data": {
            "text/plain": [
              "<IPython.core.display.HTML object>"
            ],
            "text/html": [
              "\n",
              "<video autoplay\n",
              " width=800 height=600></video>\n",
              "<script>\n",
              "var video = document.querySelector('video')\n",
              "navigator.mediaDevices.getUserMedia({ video: true })\n",
              "  .then(stream=> video.srcObject = stream)\n",
              "\n",
              "var data = new Promise(resolve=>{\n",
              "  video.onclick = ()=>{\n",
              "    var canvas = document.createElement('canvas')\n",
              "    var [w,h] = [video.offsetWidth, video.offsetHeight]\n",
              "    canvas.width = w\n",
              "    canvas.height = h\n",
              "    canvas.getContext('2d')\n",
              "          .drawImage(video, 0, 0, w, h)\n",
              "    video.srcObject.getVideoTracks()[0].stop()\n",
              "    video.replaceWith(canvas)\n",
              "    resolve(canvas.toDataURL('image/jpeg', 0.800000))\n",
              "  }\n",
              "})\n",
              "</script>\n"
            ]
          },
          "metadata": {}
        },
        {
          "output_type": "error",
          "ename": "KeyboardInterrupt",
          "evalue": "",
          "traceback": [
            "\u001b[0;31m---------------------------------------------------------------------------\u001b[0m",
            "\u001b[0;31mKeyboardInterrupt\u001b[0m                         Traceback (most recent call last)",
            "\u001b[0;32m<ipython-input-49-a489d8c780b7>\u001b[0m in \u001b[0;36m<cell line: 1>\u001b[0;34m()\u001b[0m\n\u001b[0;32m----> 1\u001b[0;31m \u001b[0mtakePhoto\u001b[0m\u001b[0;34m(\u001b[0m\u001b[0;34m)\u001b[0m\u001b[0;34m\u001b[0m\u001b[0;34m\u001b[0m\u001b[0m\n\u001b[0m",
            "\u001b[0;32m<ipython-input-40-f9525ef9b067>\u001b[0m in \u001b[0;36mtakePhoto\u001b[0;34m(filename, quality)\u001b[0m\n\u001b[1;32m      1\u001b[0m \u001b[0;32mdef\u001b[0m \u001b[0mtakePhoto\u001b[0m\u001b[0;34m(\u001b[0m\u001b[0mfilename\u001b[0m\u001b[0;34m=\u001b[0m\u001b[0;34m'photo.jpg'\u001b[0m\u001b[0;34m,\u001b[0m \u001b[0mquality\u001b[0m\u001b[0;34m=\u001b[0m\u001b[0;36m0.8\u001b[0m\u001b[0;34m)\u001b[0m\u001b[0;34m:\u001b[0m\u001b[0;34m\u001b[0m\u001b[0;34m\u001b[0m\u001b[0m\n\u001b[1;32m      2\u001b[0m   \u001b[0mdisplay\u001b[0m\u001b[0;34m(\u001b[0m\u001b[0mHTML\u001b[0m\u001b[0;34m(\u001b[0m\u001b[0mVIDEO_HTML\u001b[0m \u001b[0;34m%\u001b[0m \u001b[0mquality\u001b[0m\u001b[0;34m)\u001b[0m\u001b[0;34m)\u001b[0m\u001b[0;34m\u001b[0m\u001b[0;34m\u001b[0m\u001b[0m\n\u001b[0;32m----> 3\u001b[0;31m   \u001b[0mdata\u001b[0m \u001b[0;34m=\u001b[0m \u001b[0meval_js\u001b[0m\u001b[0;34m(\u001b[0m\u001b[0;34m\"data\"\u001b[0m\u001b[0;34m)\u001b[0m\u001b[0;34m\u001b[0m\u001b[0;34m\u001b[0m\u001b[0m\n\u001b[0m\u001b[1;32m      4\u001b[0m   \u001b[0mbinary\u001b[0m \u001b[0;34m=\u001b[0m \u001b[0mb64decode\u001b[0m\u001b[0;34m(\u001b[0m\u001b[0mdata\u001b[0m\u001b[0;34m.\u001b[0m\u001b[0msplit\u001b[0m\u001b[0;34m(\u001b[0m\u001b[0;34m','\u001b[0m\u001b[0;34m)\u001b[0m\u001b[0;34m[\u001b[0m\u001b[0;36m1\u001b[0m\u001b[0;34m]\u001b[0m\u001b[0;34m)\u001b[0m\u001b[0;34m\u001b[0m\u001b[0;34m\u001b[0m\u001b[0m\n\u001b[1;32m      5\u001b[0m   \u001b[0;32mwith\u001b[0m \u001b[0mopen\u001b[0m\u001b[0;34m(\u001b[0m\u001b[0mfilename\u001b[0m\u001b[0;34m,\u001b[0m \u001b[0;34m'wb'\u001b[0m\u001b[0;34m)\u001b[0m \u001b[0;32mas\u001b[0m \u001b[0mf\u001b[0m\u001b[0;34m:\u001b[0m\u001b[0;34m\u001b[0m\u001b[0;34m\u001b[0m\u001b[0m\n",
            "\u001b[0;32m/usr/local/lib/python3.10/dist-packages/google/colab/output/_js.py\u001b[0m in \u001b[0;36meval_js\u001b[0;34m(script, ignore_result, timeout_sec)\u001b[0m\n\u001b[1;32m     38\u001b[0m   \u001b[0;32mif\u001b[0m \u001b[0mignore_result\u001b[0m\u001b[0;34m:\u001b[0m\u001b[0;34m\u001b[0m\u001b[0;34m\u001b[0m\u001b[0m\n\u001b[1;32m     39\u001b[0m     \u001b[0;32mreturn\u001b[0m\u001b[0;34m\u001b[0m\u001b[0;34m\u001b[0m\u001b[0m\n\u001b[0;32m---> 40\u001b[0;31m   \u001b[0;32mreturn\u001b[0m \u001b[0m_message\u001b[0m\u001b[0;34m.\u001b[0m\u001b[0mread_reply_from_input\u001b[0m\u001b[0;34m(\u001b[0m\u001b[0mrequest_id\u001b[0m\u001b[0;34m,\u001b[0m \u001b[0mtimeout_sec\u001b[0m\u001b[0;34m)\u001b[0m\u001b[0;34m\u001b[0m\u001b[0;34m\u001b[0m\u001b[0m\n\u001b[0m\u001b[1;32m     41\u001b[0m \u001b[0;34m\u001b[0m\u001b[0m\n\u001b[1;32m     42\u001b[0m \u001b[0;34m\u001b[0m\u001b[0m\n",
            "\u001b[0;32m/usr/local/lib/python3.10/dist-packages/google/colab/_message.py\u001b[0m in \u001b[0;36mread_reply_from_input\u001b[0;34m(message_id, timeout_sec)\u001b[0m\n\u001b[1;32m     94\u001b[0m     \u001b[0mreply\u001b[0m \u001b[0;34m=\u001b[0m \u001b[0m_read_next_input_message\u001b[0m\u001b[0;34m(\u001b[0m\u001b[0;34m)\u001b[0m\u001b[0;34m\u001b[0m\u001b[0;34m\u001b[0m\u001b[0m\n\u001b[1;32m     95\u001b[0m     \u001b[0;32mif\u001b[0m \u001b[0mreply\u001b[0m \u001b[0;34m==\u001b[0m \u001b[0m_NOT_READY\u001b[0m \u001b[0;32mor\u001b[0m \u001b[0;32mnot\u001b[0m \u001b[0misinstance\u001b[0m\u001b[0;34m(\u001b[0m\u001b[0mreply\u001b[0m\u001b[0;34m,\u001b[0m \u001b[0mdict\u001b[0m\u001b[0;34m)\u001b[0m\u001b[0;34m:\u001b[0m\u001b[0;34m\u001b[0m\u001b[0;34m\u001b[0m\u001b[0m\n\u001b[0;32m---> 96\u001b[0;31m       \u001b[0mtime\u001b[0m\u001b[0;34m.\u001b[0m\u001b[0msleep\u001b[0m\u001b[0;34m(\u001b[0m\u001b[0;36m0.025\u001b[0m\u001b[0;34m)\u001b[0m\u001b[0;34m\u001b[0m\u001b[0;34m\u001b[0m\u001b[0m\n\u001b[0m\u001b[1;32m     97\u001b[0m       \u001b[0;32mcontinue\u001b[0m\u001b[0;34m\u001b[0m\u001b[0;34m\u001b[0m\u001b[0m\n\u001b[1;32m     98\u001b[0m     if (\n",
            "\u001b[0;31mKeyboardInterrupt\u001b[0m: "
          ]
        }
      ]
    }
  ]
}